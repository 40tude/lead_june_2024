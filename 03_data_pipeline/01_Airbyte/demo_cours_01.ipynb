{
 "cells": [
  {
   "cell_type": "code",
   "execution_count": 1,
   "metadata": {},
   "outputs": [
    {
     "name": "stdout",
     "output_type": "stream",
     "text": [
      "AWS REGION = eu-west-3\n"
     ]
    },
    {
     "data": {
      "text/plain": [
       "1"
      ]
     },
     "execution_count": 1,
     "metadata": {},
     "output_type": "execute_result"
    }
   ],
   "source": [
    "# lancer ./secrets à partir du terminal dans C:\\Users\\phili\\OneDrive\\Documents\\Programmation\\Formations_JEDHA\\03_Data_Science_Lead_june_2024 \n",
    "# lancer code .\n",
    "\n",
    "# conda install pandas\n",
    "# conda install fsspec\n",
    "# yconda install s3fs\n",
    "\n",
    "\n",
    "import os\n",
    "import pandas as pd\n",
    "\n",
    "print(f\"AWS REGION = {os.environ.get('AWS_REGION')}\")\n",
    "\n",
    "data = pd.read_csv(\"s3://demo-lead-bucket/demo-airbyte/branches/2024_07_03_1719999894115_0.csv\")\n",
    "len(data)"
   ]
  }
 ],
 "metadata": {
  "kernelspec": {
   "display_name": "lead",
   "language": "python",
   "name": "python3"
  },
  "language_info": {
   "codemirror_mode": {
    "name": "ipython",
    "version": 3
   },
   "file_extension": ".py",
   "mimetype": "text/x-python",
   "name": "python",
   "nbconvert_exporter": "python",
   "pygments_lexer": "ipython3",
   "version": "3.12.3"
  }
 },
 "nbformat": 4,
 "nbformat_minor": 2
}
