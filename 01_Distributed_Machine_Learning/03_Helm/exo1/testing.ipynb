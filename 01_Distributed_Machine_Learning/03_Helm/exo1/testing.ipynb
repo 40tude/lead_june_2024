{
 "cells": [
  {
   "cell_type": "code",
   "execution_count": 2,
   "metadata": {},
   "outputs": [],
   "source": [
    "import os\n",
    "import mlflow\n",
    "import datetime\n",
    "from PIL import Image\n",
    "import boto3"
   ]
  },
  {
   "cell_type": "code",
   "execution_count": 3,
   "metadata": {},
   "outputs": [],
   "source": [
    "timestamp = datetime.datetime.now().strftime(\"%Y%m%d\")\n",
    "k_Experiments=f\"{timestamp}_testing\"\n",
    "k_MLFlow_tracking_URI = \"http://127.0.0.1:59085\"\n",
    "\n",
    "os.makedirs(\"./img\", exist_ok=True)"
   ]
  },
  {
   "cell_type": "code",
   "execution_count": 4,
   "metadata": {},
   "outputs": [],
   "source": [
    "mlflow.set_tracking_uri(k_MLFlow_tracking_URI)\n",
    "mlflow.set_experiment(k_Experiments)\n",
    "\n",
    "mlflow.log_param(\"Dummy_Param\", 42)\n",
    "mlflow.set_tag(\"Author\", \"Philippe\")\n",
    "\n",
    "image = Image.new(\"RGB\", (100, 100), color=\"red\")\n",
    "timestamp = datetime.datetime.now().strftime(\"%Y%m%d_%H%M%S\")\n",
    "title = f\"./img/{timestamp}_dummy_artifact.png\"\n",
    "image.save(title)\n",
    "mlflow.log_artifact(title)"
   ]
  }
 ],
 "metadata": {
  "kernelspec": {
   "display_name": "lead",
   "language": "python",
   "name": "python3"
  },
  "language_info": {
   "codemirror_mode": {
    "name": "ipython",
    "version": 3
   },
   "file_extension": ".py",
   "mimetype": "text/x-python",
   "name": "python",
   "nbconvert_exporter": "python",
   "pygments_lexer": "ipython3",
   "version": "3.12.4"
  }
 },
 "nbformat": 4,
 "nbformat_minor": 2
}
